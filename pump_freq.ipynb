{
 "cells": [
  {
   "cell_type": "code",
   "execution_count": 1,
   "metadata": {
    "collapsed": true,
    "scrolled": true
   },
   "outputs": [],
   "source": [
    "from utils.log import configure_logging\n",
    "from utils.measure import raw_measure"
   ]
  },
  {
   "cell_type": "code",
   "execution_count": 2,
   "metadata": {
    "collapsed": true,
    "scrolled": true
   },
   "outputs": [],
   "source": [
    "configure_logging(debug=False, email='b.gmeiner@gmx.de')"
   ]
  },
  {
   "cell_type": "code",
   "execution_count": 3,
   "metadata": {
    "collapsed": true,
    "scrolled": true
   },
   "outputs": [],
   "source": [
    "sampling_time = 0.256 #ms\n",
    "measurement_time = 10 #s\n",
    "data_points = round(measurement_time / sampling_time * 1000)\n",
    "settings = {\n",
    "    'sensors': ['1161'],\n",
    "    'sampling_time': sampling_time,\n",
    "    'data_points': data_points,\n",
    "    'mode': 'continuous',\n",
    "}\n",
    "\n",
    "directory = \"pump_freq\""
   ]
  },
  {
   "cell_type": "code",
   "execution_count": 4,
   "metadata": {
    "scrolled": true
   },
   "outputs": [
    {
     "data": {
      "application/javascript": [
       "var command = \"script_filename = '\" + IPython.notebook.notebook_path + \"'; script_filename = script_filename.split('/')[-1]\";\n",
       "IPython.notebook.kernel.execute(command);"
      ],
      "text/plain": [
       "<IPython.core.display.Javascript object>"
      ]
     },
     "metadata": {},
     "output_type": "display_data"
    }
   ],
   "source": [
    "%%javascript\n",
    "var command = \"script_filename = '\" + IPython.notebook.notebook_path + \"'; script_filename = script_filename.split('/')[-1]\";\n",
    "IPython.notebook.kernel.execute(command);"
   ]
  },
  {
   "cell_type": "code",
   "execution_count": 5,
   "metadata": {
    "scrolled": false
   },
   "outputs": [
    {
     "data": {
      "text/plain": [
       "<kapascan.controller.Controller at 0x7f7507b49518>"
      ]
     },
     "execution_count": 5,
     "metadata": {},
     "output_type": "execute_result"
    }
   ],
   "source": [
    "raw_measure(settings, directory, script_filename, 1)"
   ]
  },
  {
   "cell_type": "code",
   "execution_count": null,
   "metadata": {
    "collapsed": true
   },
   "outputs": [],
   "source": []
  }
 ],
 "metadata": {
  "kernelspec": {
   "display_name": "Python 3",
   "language": "python",
   "name": "python3"
  },
  "language_info": {
   "codemirror_mode": {
    "name": "ipython",
    "version": 3
   },
   "file_extension": ".py",
   "mimetype": "text/x-python",
   "name": "python",
   "nbconvert_exporter": "python",
   "pygments_lexer": "ipython3",
   "version": "3.5.3"
  }
 },
 "nbformat": 4,
 "nbformat_minor": 2
}
