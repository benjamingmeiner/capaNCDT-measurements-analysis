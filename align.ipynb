{
 "cells": [
  {
   "cell_type": "code",
   "execution_count": 1,
   "metadata": {
    "collapsed": true,
    "scrolled": true
   },
   "outputs": [],
   "source": [
    "import os\n",
    "from kapascan.measurement import Measurement\n",
    "import plot\n",
    "%matplotlib inline\n",
    "import numpy as np\n",
    "import shelve\n",
    "import datetime"
   ]
  },
  {
   "cell_type": "code",
   "execution_count": 2,
   "metadata": {
    "collapsed": true,
    "scrolled": true
   },
   "outputs": [],
   "source": [
    "host_controller = '192.168.254.173'\n",
    "host_logger = '192.168.254.51'\n",
    "serial_port = '/dev/ttyACM0'\n",
    "settings = {\n",
    "    'sensors': ['1739'],\n",
    "    'sampling_time': 0.256,\n",
    "    'data_points': 50,\n",
    "    'extent': ((-1.5+18.5, 1.5+18.5, 0.02), (-1.5+11, 1.5+11, 0.02)),\n",
    "    'mode': 'absolute',\n",
    "    'direction': ('x', 'y'),\n",
    "    'change_direction': False\n",
    "    }"
   ]
  },
  {
   "cell_type": "code",
   "execution_count": 3,
   "metadata": {
    "collapsed": true,
    "scrolled": true
   },
   "outputs": [],
   "source": [
    "m = Measurement(host_controller, serial_port, host_logger, settings)"
   ]
  },
  {
   "cell_type": "code",
   "execution_count": 4,
   "metadata": {},
   "outputs": [
    {
     "name": "stdout",
     "output_type": "stream",
     "text": [
      "remaining: 0:35:36\n",
      "remaining: 0:32:58\n",
      "remaining: 0:33:24\n",
      "remaining: 0:33:37\n",
      "remaining: 0:34:06\n",
      "remaining: 0:33:09\n",
      "remaining: 0:32:46\n",
      "remaining: 0:33:25\n",
      "remaining: 0:32:52\n",
      "remaining: 0:33:11\n",
      "remaining: 0:33:37\n",
      "remaining: 0:33:12\n",
      "remaining: 0:32:51\n",
      "remaining: 0:32:39\n",
      "remaining: 0:32:22\n",
      "remaining: 0:32:37\n",
      "remaining: 0:32:28\n",
      "remaining: 0:32:15\n",
      "remaining: 0:32:33\n",
      "remaining: 0:32:26\n",
      "remaining: 0:32:37\n",
      "remaining: 0:32:31\n",
      "remaining: 0:32:25\n",
      "remaining: 0:32:15\n",
      "remaining: 0:32:09\n",
      "remaining: 0:31:57\n",
      "remaining: 0:32:06\n",
      "remaining: 0:32:03\n",
      "remaining: 0:32:11\n",
      "remaining: 0:32:03\n",
      "remaining: 0:32:04\n",
      "remaining: 0:32:00\n",
      "remaining: 0:32:08\n",
      "remaining: 0:32:04\n",
      "remaining: 0:32:14\n",
      "remaining: 0:32:21\n",
      "remaining: 0:32:27\n",
      "remaining: 0:32:20\n",
      "remaining: 0:32:14\n",
      "remaining: 0:32:16\n",
      "remaining: 0:32:22\n",
      "remaining: 0:32:27\n",
      "remaining: 0:32:22\n",
      "remaining: 0:32:19\n",
      "remaining: 0:32:24\n",
      "remaining: 0:32:29\n",
      "remaining: 0:32:24\n",
      "remaining: 0:32:28\n",
      "remaining: 0:32:30\n",
      "remaining: 0:32:34\n",
      "remaining: 0:32:30\n",
      "remaining: 0:32:27\n",
      "remaining: 0:32:24\n",
      "remaining: 0:32:28\n",
      "remaining: 0:32:28\n",
      "remaining: 0:32:23\n",
      "remaining: 0:32:27\n",
      "remaining: 0:32:32\n",
      "remaining: 0:32:38\n",
      "remaining: 0:32:34\n",
      "remaining: 0:32:33\n",
      "remaining: 0:32:36\n",
      "remaining: 0:32:40\n",
      "remaining: 0:32:38\n",
      "remaining: 0:32:40\n",
      "remaining: 0:32:36\n",
      "remaining: 0:32:34\n",
      "remaining: 0:32:30\n",
      "remaining: 0:32:33\n",
      "remaining: 0:32:33\n",
      "remaining: 0:32:36\n",
      "remaining: 0:32:32\n",
      "remaining: 0:32:35\n",
      "remaining: 0:32:32\n",
      "remaining: 0:32:34\n",
      "remaining: 0:32:34\n",
      "remaining: 0:32:32\n",
      "remaining: 0:32:29\n",
      "remaining: 0:32:27\n",
      "remaining: 0:32:24\n",
      "remaining: 0:32:21\n",
      "remaining: 0:32:18\n",
      "remaining: 0:32:15\n",
      "remaining: 0:32:19\n",
      "remaining: 0:32:18\n",
      "remaining: 0:32:20\n",
      "remaining: 0:32:22\n",
      "remaining: 0:32:22\n",
      "remaining: 0:32:21\n",
      "remaining: 0:32:18\n",
      "remaining: 0:32:15\n",
      "remaining: 0:32:13\n"
     ]
    },
    {
     "ename": "KeyboardInterrupt",
     "evalue": "",
     "output_type": "error",
     "traceback": [
      "\u001b[1;31m---------------------------------------------------------------------------\u001b[0m",
      "\u001b[1;31mKeyboardInterrupt\u001b[0m                         Traceback (most recent call last)",
      "\u001b[1;32m<ipython-input-4-c07378c594c9>\u001b[0m in \u001b[0;36m<module>\u001b[1;34m()\u001b[0m\n\u001b[0;32m      3\u001b[0m     \u001b[1;31m#m.move_away()\u001b[0m\u001b[1;33m\u001b[0m\u001b[1;33m\u001b[0m\u001b[0m\n\u001b[0;32m      4\u001b[0m     \u001b[1;31m#m.move_back()\u001b[0m\u001b[1;33m\u001b[0m\u001b[1;33m\u001b[0m\u001b[0m\n\u001b[1;32m----> 5\u001b[1;33m     \u001b[0mx\u001b[0m\u001b[1;33m,\u001b[0m \u001b[0my\u001b[0m\u001b[1;33m,\u001b[0m \u001b[0mz\u001b[0m\u001b[1;33m,\u001b[0m \u001b[0mT\u001b[0m \u001b[1;33m=\u001b[0m \u001b[0mm\u001b[0m\u001b[1;33m.\u001b[0m\u001b[0mscan\u001b[0m\u001b[1;33m(\u001b[0m\u001b[1;33m)\u001b[0m\u001b[1;33m\u001b[0m\u001b[0m\n\u001b[0m\u001b[0;32m      6\u001b[0m     \u001b[1;31m#plot.plot(x, y, z)\u001b[0m\u001b[1;33m\u001b[0m\u001b[1;33m\u001b[0m\u001b[0m\n",
      "\u001b[1;32m~/master/kapascan-measurements/kapascan/measurement.py\u001b[0m in \u001b[0;36mscan\u001b[1;34m(self)\u001b[0m\n\u001b[0;32m    213\u001b[0m                 \u001b[0mthread\u001b[0m\u001b[1;33m.\u001b[0m\u001b[0mstart\u001b[0m\u001b[1;33m(\u001b[0m\u001b[1;33m)\u001b[0m\u001b[1;33m\u001b[0m\u001b[0m\n\u001b[0;32m    214\u001b[0m             \u001b[1;32mfor\u001b[0m \u001b[0mthread\u001b[0m \u001b[1;32min\u001b[0m \u001b[0mthreads\u001b[0m\u001b[1;33m:\u001b[0m\u001b[1;33m\u001b[0m\u001b[0m\n\u001b[1;32m--> 215\u001b[1;33m                 \u001b[0mthread\u001b[0m\u001b[1;33m.\u001b[0m\u001b[0mjoin\u001b[0m\u001b[1;33m(\u001b[0m\u001b[1;33m)\u001b[0m\u001b[1;33m\u001b[0m\u001b[0m\n\u001b[0m\u001b[0;32m    216\u001b[0m             \u001b[0mthreads\u001b[0m\u001b[1;33m.\u001b[0m\u001b[0mclear\u001b[0m\u001b[1;33m(\u001b[0m\u001b[1;33m)\u001b[0m\u001b[1;33m\u001b[0m\u001b[0m\n\u001b[0;32m    217\u001b[0m             \u001b[0mt_remaining\u001b[0m \u001b[1;33m=\u001b[0m \u001b[1;33m(\u001b[0m\u001b[0mlength\u001b[0m \u001b[1;33m-\u001b[0m \u001b[0mi\u001b[0m\u001b[1;33m)\u001b[0m \u001b[1;33m*\u001b[0m \u001b[1;33m(\u001b[0m\u001b[0mtimer\u001b[0m\u001b[1;33m(\u001b[0m\u001b[1;33m)\u001b[0m \u001b[1;33m-\u001b[0m \u001b[0mt_start\u001b[0m\u001b[1;33m)\u001b[0m \u001b[1;33m/\u001b[0m \u001b[1;33m(\u001b[0m\u001b[0mi\u001b[0m \u001b[1;33m+\u001b[0m \u001b[1;36m1\u001b[0m\u001b[1;33m)\u001b[0m\u001b[1;33m\u001b[0m\u001b[0m\n",
      "\u001b[1;32m/usr/lib/python3.5/threading.py\u001b[0m in \u001b[0;36mjoin\u001b[1;34m(self, timeout)\u001b[0m\n\u001b[0;32m   1052\u001b[0m \u001b[1;33m\u001b[0m\u001b[0m\n\u001b[0;32m   1053\u001b[0m         \u001b[1;32mif\u001b[0m \u001b[0mtimeout\u001b[0m \u001b[1;32mis\u001b[0m \u001b[1;32mNone\u001b[0m\u001b[1;33m:\u001b[0m\u001b[1;33m\u001b[0m\u001b[0m\n\u001b[1;32m-> 1054\u001b[1;33m             \u001b[0mself\u001b[0m\u001b[1;33m.\u001b[0m\u001b[0m_wait_for_tstate_lock\u001b[0m\u001b[1;33m(\u001b[0m\u001b[1;33m)\u001b[0m\u001b[1;33m\u001b[0m\u001b[0m\n\u001b[0m\u001b[0;32m   1055\u001b[0m         \u001b[1;32melse\u001b[0m\u001b[1;33m:\u001b[0m\u001b[1;33m\u001b[0m\u001b[0m\n\u001b[0;32m   1056\u001b[0m             \u001b[1;31m# the behavior of a negative timeout isn't documented, but\u001b[0m\u001b[1;33m\u001b[0m\u001b[1;33m\u001b[0m\u001b[0m\n",
      "\u001b[1;32m/usr/lib/python3.5/threading.py\u001b[0m in \u001b[0;36m_wait_for_tstate_lock\u001b[1;34m(self, block, timeout)\u001b[0m\n\u001b[0;32m   1068\u001b[0m         \u001b[1;32mif\u001b[0m \u001b[0mlock\u001b[0m \u001b[1;32mis\u001b[0m \u001b[1;32mNone\u001b[0m\u001b[1;33m:\u001b[0m  \u001b[1;31m# already determined that the C code is done\u001b[0m\u001b[1;33m\u001b[0m\u001b[0m\n\u001b[0;32m   1069\u001b[0m             \u001b[1;32massert\u001b[0m \u001b[0mself\u001b[0m\u001b[1;33m.\u001b[0m\u001b[0m_is_stopped\u001b[0m\u001b[1;33m\u001b[0m\u001b[0m\n\u001b[1;32m-> 1070\u001b[1;33m         \u001b[1;32melif\u001b[0m \u001b[0mlock\u001b[0m\u001b[1;33m.\u001b[0m\u001b[0macquire\u001b[0m\u001b[1;33m(\u001b[0m\u001b[0mblock\u001b[0m\u001b[1;33m,\u001b[0m \u001b[0mtimeout\u001b[0m\u001b[1;33m)\u001b[0m\u001b[1;33m:\u001b[0m\u001b[1;33m\u001b[0m\u001b[0m\n\u001b[0m\u001b[0;32m   1071\u001b[0m             \u001b[0mlock\u001b[0m\u001b[1;33m.\u001b[0m\u001b[0mrelease\u001b[0m\u001b[1;33m(\u001b[0m\u001b[1;33m)\u001b[0m\u001b[1;33m\u001b[0m\u001b[0m\n\u001b[0;32m   1072\u001b[0m             \u001b[0mself\u001b[0m\u001b[1;33m.\u001b[0m\u001b[0m_stop\u001b[0m\u001b[1;33m(\u001b[0m\u001b[1;33m)\u001b[0m\u001b[1;33m\u001b[0m\u001b[0m\n",
      "\u001b[1;31mKeyboardInterrupt\u001b[0m: "
     ]
    }
   ],
   "source": [
    "with m:\n",
    "    #m.interactive_mode()\n",
    "    #m.move_away()\n",
    "    #m.move_back()\n",
    "    x, y, z, T = m.scan()\n",
    "    #plot.plot(x, y, z)"
   ]
  },
  {
   "cell_type": "code",
   "execution_count": null,
   "metadata": {
    "collapsed": true,
    "scrolled": false
   },
   "outputs": [],
   "source": []
  },
  {
   "cell_type": "code",
   "execution_count": null,
   "metadata": {
    "collapsed": true,
    "scrolled": true
   },
   "outputs": [],
   "source": []
  }
 ],
 "metadata": {
  "kernelspec": {
   "display_name": "Python 3",
   "language": "python",
   "name": "python3"
  },
  "language_info": {
   "codemirror_mode": {
    "name": "ipython",
    "version": 3
   },
   "file_extension": ".py",
   "mimetype": "text/x-python",
   "name": "python",
   "nbconvert_exporter": "python",
   "pygments_lexer": "ipython3",
   "version": "3.5.3"
  }
 },
 "nbformat": 4,
 "nbformat_minor": 2
}
