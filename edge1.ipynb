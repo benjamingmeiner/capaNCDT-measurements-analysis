{
 "cells": [
  {
   "cell_type": "code",
   "execution_count": 1,
   "metadata": {
    "collapsed": true,
    "scrolled": true
   },
   "outputs": [],
   "source": [
    "from utils.log import configure_logging\n",
    "from utils.measure import measure"
   ]
  },
  {
   "cell_type": "code",
   "execution_count": 2,
   "metadata": {
    "collapsed": true,
    "scrolled": true
   },
   "outputs": [],
   "source": [
    "configure_logging(debug=False, email='b.gmeiner@gmx.de')"
   ]
  },
  {
   "cell_type": "code",
   "execution_count": 3,
   "metadata": {
    "collapsed": true,
    "scrolled": true
   },
   "outputs": [],
   "source": [
    "settings = {\n",
    "    'sensors': ['1161'],\n",
    "    'sampling_time': 0.256,\n",
    "    'data_points': 169,\n",
    "    'extent': ((8.5, 24.5, 0.1), (14.5, 30.5, 0.1)),\n",
    "    'mode': 'absolute',\n",
    "    'direction': ('x', 'y'),\n",
    "    'change_direction': False\n",
    "}\n",
    "\n",
    "directory = \"edge1\""
   ]
  },
  {
   "cell_type": "code",
   "execution_count": 4,
   "metadata": {
    "scrolled": true
   },
   "outputs": [
    {
     "data": {
      "application/javascript": [
       "var command = \"script_filename = '\" + IPython.notebook.notebook_path + \"'; script_filename = script_filename.split('/')[-1]\";\n",
       "IPython.notebook.kernel.execute(command);"
      ],
      "text/plain": [
       "<IPython.core.display.Javascript object>"
      ]
     },
     "metadata": {},
     "output_type": "display_data"
    }
   ],
   "source": [
    "%%javascript\n",
    "var command = \"script_filename = '\" + IPython.notebook.notebook_path + \"'; script_filename = script_filename.split('/')[-1]\";\n",
    "IPython.notebook.kernel.execute(command);"
   ]
  },
  {
   "cell_type": "code",
   "execution_count": 5,
   "metadata": {
    "scrolled": false
   },
   "outputs": [
    {
     "data": {
      "application/vnd.jupyter.widget-view+json": {
       "model_id": "15dc1cc802c748e4bdaa1eb629f2622d"
      }
     },
     "metadata": {},
     "output_type": "display_data"
    },
    {
     "name": "stderr",
     "output_type": "stream",
     "text": [
      "send: 'ehlo [127.0.1.1]\\r\\n'\n",
      "reply: b'250-web.de Hello [127.0.1.1] [178.15.225.204]\\r\\n'\n",
      "reply: b'250-AUTH LOGIN PLAIN\\r\\n'\n",
      "reply: b'250-SIZE 141557760\\r\\n'\n",
      "reply: b'250 STARTTLS\\r\\n'\n",
      "reply: retcode (250); Msg: b'web.de Hello [127.0.1.1] [178.15.225.204]\\nAUTH LOGIN PLAIN\\nSIZE 141557760\\nSTARTTLS'\n",
      "send: 'STARTTLS\\r\\n'\n",
      "reply: b'220 OK\\r\\n'\n",
      "reply: retcode (220); Msg: b'OK'\n",
      "send: 'ehlo [127.0.1.1]\\r\\n'\n",
      "reply: b'250-web.de Hello [127.0.1.1] [178.15.225.204]\\r\\n'\n",
      "reply: b'250-AUTH LOGIN PLAIN\\r\\n'\n",
      "reply: b'250 SIZE 141557760\\r\\n'\n",
      "reply: retcode (250); Msg: b'web.de Hello [127.0.1.1] [178.15.225.204]\\nAUTH LOGIN PLAIN\\nSIZE 141557760'\n",
      "send: 'AUTH PLAIN AGthcGFzY2FuQHdlYi5kZQBrYXBhc2Nhbg==\\r\\n'\n",
      "reply: b'235 Authentication succeeded\\r\\n'\n",
      "reply: retcode (235); Msg: b'Authentication succeeded'\n",
      "send: 'mail FROM:<kapascan@web.de> size=1186\\r\\n'\n",
      "send: 'QUIT\\r\\n'\n",
      "--- Logging error ---\n",
      "Traceback (most recent call last):\n",
      "  File \"/usr/lib/python3.5/smtplib.py\", line 386, in getreply\n",
      "    line = self.file.readline(_MAXLINE + 1)\n",
      "  File \"/usr/lib/python3.5/socket.py\", line 576, in readinto\n",
      "    return self._sock.recv_into(b)\n",
      "  File \"/usr/lib/python3.5/ssl.py\", line 937, in recv_into\n",
      "    return self.read(nbytes, buffer)\n",
      "  File \"/usr/lib/python3.5/ssl.py\", line 799, in read\n",
      "    return self._sslobj.read(len, buffer)\n",
      "  File \"/usr/lib/python3.5/ssl.py\", line 583, in read\n",
      "    v = self._sslobj.read(len, buffer)\n",
      "socket.timeout: The read operation timed out\n",
      "\n",
      "During handling of the above exception, another exception occurred:\n",
      "\n",
      "Traceback (most recent call last):\n",
      "  File \"/home/kapascan/jupyter/kapascan-measurements/utils/log.py\", line 125, in send_buffer\n",
      "    self.send_email(message)\n",
      "  File \"/home/kapascan/jupyter/kapascan-measurements/utils/log.py\", line 145, in send_email\n",
      "    smtp.send_message(message)\n",
      "  File \"/usr/lib/python3.5/smtplib.py\", line 961, in send_message\n",
      "    rcpt_options)\n",
      "  File \"/usr/lib/python3.5/smtplib.py\", line 856, in sendmail\n",
      "    (code, resp) = self.mail(from_addr, esmtp_opts)\n",
      "  File \"/usr/lib/python3.5/smtplib.py\", line 534, in mail\n",
      "    return self.getreply()\n",
      "  File \"/usr/lib/python3.5/smtplib.py\", line 390, in getreply\n",
      "    + str(e))\n",
      "smtplib.SMTPServerDisconnected: Connection unexpectedly closed: The read operation timed out\n",
      "Call stack:\n",
      "  File \"/usr/lib/python3.5/threading.py\", line 882, in _bootstrap\n",
      "    self._bootstrap_inner()\n",
      "  File \"/usr/lib/python3.5/threading.py\", line 914, in _bootstrap_inner\n",
      "    self.run()\n",
      "  File \"/usr/lib/python3.5/threading.py\", line 862, in run\n",
      "    self._target(*self._args, **self._kwargs)\n",
      "  File \"/home/kapascan/jupyter/kapascan-measurements/utils/log.py\", line 112, in target\n",
      "    self.send_buffer()\n",
      "  File \"/home/kapascan/jupyter/kapascan-measurements/utils/log.py\", line 127, in send_buffer\n",
      "    self.handleError(record)\n",
      "Message: <kapascan.helper.BraceMessage object at 0x7f64e489e0b8>\n",
      "Arguments: ()\n"
     ]
    },
    {
     "data": {
      "application/vnd.jupyter.widget-view+json": {
       "model_id": "e7832695430545cba66eb95c9b365a33"
      }
     },
     "metadata": {},
     "output_type": "display_data"
    },
    {
     "name": "stderr",
     "output_type": "stream",
     "text": [
      "send: 'ehlo [127.0.1.1]\\r\\n'\n",
      "reply: b'250-web.de Hello [127.0.1.1] [178.15.225.204]\\r\\n'\n",
      "reply: b'250-AUTH LOGIN PLAIN\\r\\n'\n",
      "reply: b'250-SIZE 141557760\\r\\n'\n",
      "reply: b'250 STARTTLS\\r\\n'\n",
      "reply: retcode (250); Msg: b'web.de Hello [127.0.1.1] [178.15.225.204]\\nAUTH LOGIN PLAIN\\nSIZE 141557760\\nSTARTTLS'\n",
      "send: 'STARTTLS\\r\\n'\n",
      "reply: b'220 OK\\r\\n'\n",
      "reply: retcode (220); Msg: b'OK'\n",
      "send: 'ehlo [127.0.1.1]\\r\\n'\n",
      "reply: b'250-web.de Hello [127.0.1.1] [178.15.225.204]\\r\\n'\n",
      "reply: b'250-AUTH LOGIN PLAIN\\r\\n'\n",
      "reply: b'250 SIZE 141557760\\r\\n'\n",
      "reply: retcode (250); Msg: b'web.de Hello [127.0.1.1] [178.15.225.204]\\nAUTH LOGIN PLAIN\\nSIZE 141557760'\n",
      "send: 'AUTH PLAIN AGthcGFzY2FuQHdlYi5kZQBrYXBhc2Nhbg==\\r\\n'\n",
      "reply: b'235 Authentication succeeded\\r\\n'\n",
      "reply: retcode (235); Msg: b'Authentication succeeded'\n",
      "send: 'mail FROM:<kapascan@web.de> size=1194\\r\\n'\n",
      "reply: b'250 Requested mail action okay, completed\\r\\n'\n",
      "reply: retcode (250); Msg: b'Requested mail action okay, completed'\n",
      "send: 'rcpt TO:<b.gmeiner@gmx.de>\\r\\n'\n",
      "reply: b'250 OK\\r\\n'\n",
      "reply: retcode (250); Msg: b'OK'\n",
      "send: 'data\\r\\n'\n",
      "reply: b'354 Start mail input; end with <CRLF>.<CRLF>\\r\\n'\n",
      "reply: retcode (354); Msg: b'Start mail input; end with <CRLF>.<CRLF>'\n",
      "data: (354, b'Start mail input; end with <CRLF>.<CRLF>')\n",
      "send: b'From: kapascan@web.de\\r\\nTo: b.gmeiner@gmx.de\\r\\nSubject: kapascan\\r\\nDate: Thu, 30 Nov 2017 14:08:29 +0100\\r\\nContent-Type: text/plain; charset=\"utf-8\"\\r\\nContent-Transfer-Encoding: 7bit\\r\\nMIME-Version: 1.0\\r\\n\\r\\n2017-11-30 14:07:33   INFO   Finished scan.                                                                                                   kapascan.measurement\\r\\n\\r\\n2017-11-30 14:07:35   INFO   Written measurement data to data/edge1/003_.                                                                            utils.measure\\r\\n\\r\\n2017-11-30 14:07:36   INFO   Switched to branch edge1 and commited data.                                                                             utils.measure\\r\\n\\r\\n2017-11-30 14:07:36   INFO   Scan 2 of 2:                                                                                                            utils.measure\\r\\n\\r\\n2017-11-30 14:07:41   INFO   Started scan.                                                                                                    kapascan.measurement\\r\\n\\r\\n2017-11-30 14:07:41   INFO   Scanning 25921 positions ...                                                                                     kapascan.measurement\\r\\n.\\r\\n'\n",
      "reply: b'250 Requested mail action okay, completed: id=0MeBEk-1ekL9U0IbW-00PvL9\\r\\n'\n",
      "reply: retcode (250); Msg: b'Requested mail action okay, completed: id=0MeBEk-1ekL9U0IbW-00PvL9'\n",
      "data: (250, b'Requested mail action okay, completed: id=0MeBEk-1ekL9U0IbW-00PvL9')\n",
      "send: 'QUIT\\r\\n'\n",
      "reply: b'221 web.de Service closing transmission channel\\r\\n'\n",
      "reply: retcode (221); Msg: b'web.de Service closing transmission channel'\n"
     ]
    },
    {
     "data": {
      "text/plain": [
       "<kapascan.measurement.Measurement at 0x7f6519566a20>"
      ]
     },
     "execution_count": 5,
     "metadata": {},
     "output_type": "execute_result"
    },
    {
     "name": "stderr",
     "output_type": "stream",
     "text": [
      "send: 'ehlo [127.0.1.1]\\r\\n'\n",
      "reply: b'250-web.de Hello [127.0.1.1] [178.15.225.204]\\r\\n'\n",
      "reply: b'250-AUTH LOGIN PLAIN\\r\\n'\n",
      "reply: b'250-SIZE 141557760\\r\\n'\n",
      "reply: b'250 STARTTLS\\r\\n'\n",
      "reply: retcode (250); Msg: b'web.de Hello [127.0.1.1] [178.15.225.204]\\nAUTH LOGIN PLAIN\\nSIZE 141557760\\nSTARTTLS'\n",
      "send: 'STARTTLS\\r\\n'\n",
      "reply: b'220 OK\\r\\n'\n",
      "reply: retcode (220); Msg: b'OK'\n",
      "send: 'ehlo [127.0.1.1]\\r\\n'\n",
      "reply: b'250-web.de Hello [127.0.1.1] [178.15.225.204]\\r\\n'\n",
      "reply: b'250-AUTH LOGIN PLAIN\\r\\n'\n",
      "reply: b'250 SIZE 141557760\\r\\n'\n",
      "reply: retcode (250); Msg: b'web.de Hello [127.0.1.1] [178.15.225.204]\\nAUTH LOGIN PLAIN\\nSIZE 141557760'\n",
      "send: 'AUTH PLAIN AGthcGFzY2FuQHdlYi5kZQBrYXBhc2Nhbg==\\r\\n'\n",
      "reply: b'235 Authentication succeeded\\r\\n'\n",
      "reply: retcode (235); Msg: b'Authentication succeeded'\n",
      "send: 'mail FROM:<kapascan@web.de> size=696\\r\\n'\n",
      "reply: b'250 Requested mail action okay, completed\\r\\n'\n",
      "reply: retcode (250); Msg: b'Requested mail action okay, completed'\n",
      "send: 'rcpt TO:<b.gmeiner@gmx.de>\\r\\n'\n",
      "reply: b'250 OK\\r\\n'\n",
      "reply: retcode (250); Msg: b'OK'\n",
      "send: 'data\\r\\n'\n",
      "reply: b'354 Start mail input; end with <CRLF>.<CRLF>\\r\\n'\n",
      "reply: retcode (354); Msg: b'Start mail input; end with <CRLF>.<CRLF>'\n",
      "data: (354, b'Start mail input; end with <CRLF>.<CRLF>')\n",
      "send: b'From: kapascan@web.de\\r\\nTo: b.gmeiner@gmx.de\\r\\nSubject: kapascan\\r\\nDate: Thu, 30 Nov 2017 15:52:34 +0100\\r\\nContent-Type: text/plain; charset=\"utf-8\"\\r\\nContent-Transfer-Encoding: 7bit\\r\\nMIME-Version: 1.0\\r\\n\\r\\n2017-11-30 15:52:32   INFO   Finished scan.                                                                                                   kapascan.measurement\\r\\n\\r\\n2017-11-30 15:52:34   INFO   Written measurement data to data/edge1/004_.                                                                            utils.measure\\r\\n\\r\\n2017-11-30 15:52:34   INFO   Switched to branch edge1 and commited data.                                                                             utils.measure\\r\\n.\\r\\n'\n",
      "reply: b'250 Requested mail action okay, completed: id=0MGifp-1eGJSF3QzR-00DVx4\\r\\n'\n",
      "reply: retcode (250); Msg: b'Requested mail action okay, completed: id=0MGifp-1eGJSF3QzR-00DVx4'\n",
      "data: (250, b'Requested mail action okay, completed: id=0MGifp-1eGJSF3QzR-00DVx4')\n",
      "send: 'QUIT\\r\\n'\n",
      "reply: b'221 web.de Service closing transmission channel\\r\\n'\n",
      "reply: retcode (221); Msg: b'web.de Service closing transmission channel'\n"
     ]
    }
   ],
   "source": [
    "measure(settings, directory, script_filename, 2)"
   ]
  },
  {
   "cell_type": "code",
   "execution_count": null,
   "metadata": {
    "collapsed": true
   },
   "outputs": [],
   "source": []
  }
 ],
 "metadata": {
  "kernelspec": {
   "display_name": "Python 3",
   "language": "python",
   "name": "python3"
  },
  "language_info": {
   "codemirror_mode": {
    "name": "ipython",
    "version": 3
   },
   "file_extension": ".py",
   "mimetype": "text/x-python",
   "name": "python",
   "nbconvert_exporter": "python",
   "pygments_lexer": "ipython3",
   "version": "3.5.3"
  }
 },
 "nbformat": 4,
 "nbformat_minor": 2
}
