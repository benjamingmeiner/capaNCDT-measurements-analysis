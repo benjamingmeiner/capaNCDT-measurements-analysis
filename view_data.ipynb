{
 "cells": [
  {
   "cell_type": "code",
   "execution_count": null,
   "metadata": {
    "collapsed": true,
    "scrolled": false
   },
   "outputs": [],
   "source": [
    "import datetime\n",
    "from matplotlib.dates import HourLocator, DateFormatter\n",
    "\n",
    "import matplotlib.pyplot as plt\n",
    "import numpy as np\n",
    "from utils.plot import plot, ProfileBuilder, plot_profile\n",
    "from utils.analyze import load_data\n",
    "%matplotlib notebook"
   ]
  },
  {
   "cell_type": "code",
   "execution_count": null,
   "metadata": {
    "collapsed": true,
    "scrolled": false
   },
   "outputs": [],
   "source": [
    "directory = \"agglomerat2\"\n",
    "numbers = range(1,15)"
   ]
  },
  {
   "cell_type": "code",
   "execution_count": null,
   "metadata": {
    "collapsed": true,
    "scrolled": true
   },
   "outputs": [],
   "source": [
    "x, y, z, T, t, settings = load_data(directory, numbers)\n",
    "x = x[0]\n",
    "y = y[0]"
   ]
  },
  {
   "cell_type": "code",
   "execution_count": null,
   "metadata": {
    "collapsed": true
   },
   "outputs": [],
   "source": [
    "def cat1d(x):\n",
    "    x_flat = [xi.flatten() for xi in x]\n",
    "    return np.concatenate(x_flat)"
   ]
  },
  {
   "cell_type": "code",
   "execution_count": null,
   "metadata": {
    "collapsed": true
   },
   "outputs": [],
   "source": [
    "dt = np.array([[datetime.datetime.fromtimestamp(tii) for tii in ti] for ti in t])\n",
    "plt.plot(cat1d(dt[:10]), cat1d(T[:10]))\n",
    "plt.gca().xaxis.set_major_locator(HourLocator())\n",
    "plt.gca().xaxis.set_major_formatter(DateFormatter(\"%H:%M\"))\n",
    "plt.gcf().autofmt_xdate()"
   ]
  },
  {
   "cell_type": "code",
   "execution_count": null,
   "metadata": {
    "collapsed": true,
    "scrolled": false
   },
   "outputs": [],
   "source": [
    "for zi in z:\n",
    "    fig, ax = plot(x, y, zi[0])"
   ]
  },
  {
   "cell_type": "code",
   "execution_count": null,
   "metadata": {
    "collapsed": true,
    "scrolled": false
   },
   "outputs": [],
   "source": [
    "s = 0\n",
    "for zi, zj in zip(z, z[1:]):\n",
    "    d = zi[0] - zj[0]\n",
    "    s += d.max()\n",
    "    fig, ax = plot(x, y, zi[0] - zj[0])\n",
    "print(s)"
   ]
  },
  {
   "cell_type": "code",
   "execution_count": null,
   "metadata": {
    "collapsed": true
   },
   "outputs": [],
   "source": [
    "fig, ax = plot(x, y, z[0][0] - z[9][0])"
   ]
  },
  {
   "cell_type": "code",
   "execution_count": null,
   "metadata": {
    "collapsed": true
   },
   "outputs": [],
   "source": [
    "profile = ProfileBuilder(fig, ax)"
   ]
  },
  {
   "cell_type": "code",
   "execution_count": null,
   "metadata": {
    "collapsed": true
   },
   "outputs": [],
   "source": [
    "plot_profile(x, y, z[0][0] - z[9][0], *profile.coords)"
   ]
  }
 ],
 "metadata": {
  "kernelspec": {
   "display_name": "Python 3",
   "language": "python",
   "name": "python3"
  },
  "language_info": {
   "codemirror_mode": {
    "name": "ipython",
    "version": 3
   },
   "file_extension": ".py",
   "mimetype": "text/x-python",
   "name": "python",
   "nbconvert_exporter": "python",
   "pygments_lexer": "ipython3",
   "version": "3.5.3"
  }
 },
 "nbformat": 4,
 "nbformat_minor": 2
}
