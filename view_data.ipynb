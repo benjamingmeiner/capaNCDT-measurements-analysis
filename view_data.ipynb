{
 "cells": [
  {
   "cell_type": "code",
   "execution_count": 24,
   "metadata": {
    "collapsed": true,
    "scrolled": true
   },
   "outputs": [],
   "source": [
    "import os\n",
    "from plot import plot\n",
    "import matplotlib.pyplot as plt\n",
    "%matplotlib inline\n",
    "import numpy as np\n",
    "import shelve"
   ]
  },
  {
   "cell_type": "code",
   "execution_count": 25,
   "metadata": {
    "collapsed": true,
    "scrolled": true
   },
   "outputs": [],
   "source": [
    "datadir = \"data\"\n",
    "measurement = \"noise_fixed_temp_z_0.02\"\n",
    "measurement_nr = range(10, 18)"
   ]
  },
  {
   "cell_type": "code",
   "execution_count": 26,
   "metadata": {
    "collapsed": true,
    "scrolled": true
   },
   "outputs": [],
   "source": [
    "base_dirname = os.path.join(datadir, measurement)\n",
    "base_filename = '%03d_%s.npy'"
   ]
  },
  {
   "cell_type": "code",
   "execution_count": 27,
   "metadata": {
    "collapsed": true,
    "scrolled": true
   },
   "outputs": [],
   "source": [
    "x, y, z, T, settings = [[] for _ in range(5)]\n",
    "for i in measurement_nr:\n",
    "    x.append(np.load(os.path.join(base_dirname, base_filename % (i, \"x\"))))\n",
    "    y.append(np.load(os.path.join(base_dirname, base_filename % (i, \"y\"))))\n",
    "    z.append(np.load(os.path.join(base_dirname, base_filename % (i, \"z\"))))\n",
    "    T.append(np.load(os.path.join(base_dirname, base_filename % (i, \"T\"))))\n",
    "    with shelve.open(os.path.join(base_dirname, '%03d_settings' % i)) as file:\n",
    "        settings.append(file['settings'])\n",
    "z1 = []\n",
    "z2 = []\n",
    "for zi in z:\n",
    "    z1.append(zi[0])\n",
    "    z2.append(zi[1])"
   ]
  },
  {
   "cell_type": "code",
   "execution_count": null,
   "metadata": {
    "collapsed": true
   },
   "outputs": [],
   "source": []
  },
  {
   "cell_type": "code",
   "execution_count": 28,
   "metadata": {
    "scrolled": true
   },
   "outputs": [
    {
     "data": {
      "text/plain": [
       "[{'change_direction': False,\n",
       "  'data_points': 50,\n",
       "  'direction': ('x', 'y'),\n",
       "  'extent': ((15.5, 21.5, 0.02), (8.0, 14, 0.02)),\n",
       "  'logger_channel': 101,\n",
       "  'mode': 'absolute',\n",
       "  'sampling_time': 0.256,\n",
       "  'sensors': ['1739']},\n",
       " {'change_direction': False,\n",
       "  'data_points': 50,\n",
       "  'direction': ('x', 'y'),\n",
       "  'extent': ((15.5, 21.5, 0.02), (8.0, 14, 0.02)),\n",
       "  'logger_channel': 101,\n",
       "  'mode': 'absolute',\n",
       "  'sampling_time': 0.256,\n",
       "  'sensors': ['1739']},\n",
       " {'change_direction': False,\n",
       "  'data_points': 50,\n",
       "  'direction': ('x', 'y'),\n",
       "  'extent': ((15.5, 21.5, 0.02), (8.0, 14, 0.02)),\n",
       "  'logger_channel': 101,\n",
       "  'mode': 'absolute',\n",
       "  'sampling_time': 0.256,\n",
       "  'sensors': ['1739']},\n",
       " {'change_direction': False,\n",
       "  'data_points': 50,\n",
       "  'direction': ('x', 'y'),\n",
       "  'extent': ((15.5, 21.5, 0.02), (8.0, 14, 0.02)),\n",
       "  'logger_channel': 101,\n",
       "  'mode': 'absolute',\n",
       "  'sampling_time': 0.256,\n",
       "  'sensors': ['1739']},\n",
       " {'change_direction': False,\n",
       "  'data_points': 50,\n",
       "  'direction': ('x', 'y'),\n",
       "  'extent': ((15.5, 21.5, 0.02), (8.0, 14, 0.02)),\n",
       "  'logger_channel': 101,\n",
       "  'mode': 'absolute',\n",
       "  'sampling_time': 0.256,\n",
       "  'sensors': ['1739']},\n",
       " {'change_direction': False,\n",
       "  'data_points': 50,\n",
       "  'direction': ('x', 'y'),\n",
       "  'extent': ((15.5, 21.5, 0.02), (8.0, 14, 0.02)),\n",
       "  'logger_channel': 101,\n",
       "  'mode': 'absolute',\n",
       "  'sampling_time': 0.256,\n",
       "  'sensors': ['1739']},\n",
       " {'change_direction': False,\n",
       "  'data_points': 50,\n",
       "  'direction': ('x', 'y'),\n",
       "  'extent': ((15.5, 21.5, 0.02), (8.0, 14, 0.02)),\n",
       "  'logger_channel': 101,\n",
       "  'mode': 'absolute',\n",
       "  'sampling_time': 0.256,\n",
       "  'sensors': ['1739']},\n",
       " {'change_direction': False,\n",
       "  'data_points': 50,\n",
       "  'direction': ('x', 'y'),\n",
       "  'extent': ((15.5, 21.5, 0.02), (8.0, 14, 0.02)),\n",
       "  'logger_channel': 101,\n",
       "  'mode': 'absolute',\n",
       "  'sampling_time': 0.256,\n",
       "  'sensors': ['1739']}]"
      ]
     },
     "execution_count": 28,
     "metadata": {},
     "output_type": "execute_result"
    }
   ],
   "source": [
    "settings"
   ]
  },
  {
   "cell_type": "code",
   "execution_count": 29,
   "metadata": {
    "collapsed": true,
    "scrolled": true
   },
   "outputs": [],
   "source": [
    "limits = [T[0].min(), T[0].max()]\n",
    "for Ti in T:\n",
    "    if Ti.min() < limits[0]:\n",
    "        limits[0] = Ti.min()\n",
    "    if Ti.max() > limits[1]:\n",
    "        limits[1] = Ti.max()"
   ]
  },
  {
   "cell_type": "code",
   "execution_count": null,
   "metadata": {
    "collapsed": true,
    "scrolled": false
   },
   "outputs": [],
   "source": [
    "for xi, yi, zi in zip(x, y, z1):\n",
    "    plot(xi, yi, zi, \"z\")"
   ]
  },
  {
   "cell_type": "code",
   "execution_count": null,
   "metadata": {
    "collapsed": true,
    "scrolled": false
   },
   "outputs": [],
   "source": [
    "for xi, yi, zi in zip(x, y, z):\n",
    "    plot(xi, yi, zi, \"z\")"
   ]
  },
  {
   "cell_type": "code",
   "execution_count": 30,
   "metadata": {
    "collapsed": true,
    "scrolled": false
   },
   "outputs": [],
   "source": [
    "T_flat = []\n",
    "for Ti in T:\n",
    "    T_flat.append(Ti.flatten())\n",
    "T_flat = np.concatenate(T_flat)\n",
    "\n",
    "z1_flat = []\n",
    "for z1i in z1:\n",
    "    z1_flat.append(z1i.flatten())\n",
    "z1_flat = np.concatenate(z1_flat)\n",
    "\n",
    "z2_flat = []\n",
    "for z2i in z2:\n",
    "    z2_flat.append(z2i.flatten())\n",
    "z2_flat = np.concatenate(z2_flat)"
   ]
  },
  {
   "cell_type": "code",
   "execution_count": 31,
   "metadata": {
    "scrolled": true
   },
   "outputs": [
    {
     "data": {
      "text/plain": [
       "[<matplotlib.lines.Line2D at 0x7fa00897f470>]"
      ]
     },
     "execution_count": 31,
     "metadata": {},
     "output_type": "execute_result"
    },
    {
     "data": {
      "image/png": "[encoded data removed]",
      "text/plain": [
       "<matplotlib.figure.Figure at 0x7fa00895eb00>"
      ]
     },
     "metadata": {},
     "output_type": "display_data"
    }
   ],
   "source": [
    "plt.plot(T_flat)"
   ]
  },
  {
   "cell_type": "code",
   "execution_count": 32,
   "metadata": {
    "scrolled": true
   },
   "outputs": [
    {
     "data": {
      "text/plain": [
       "[<matplotlib.lines.Line2D at 0x7fa008ab4f28>]"
      ]
     },
     "execution_count": 32,
     "metadata": {},
     "output_type": "execute_result"
    },
    {
     "data": {
      "image/png": "[encoded data removed]",
      "text/plain": [
       "<matplotlib.figure.Figure at 0x7fa00813cf28>"
      ]
     },
     "metadata": {},
     "output_type": "display_data"
    }
   ],
   "source": [
    "plt.plot(z1_flat)"
   ]
  },
  {
   "cell_type": "code",
   "execution_count": 33,
   "metadata": {},
   "outputs": [
    {
     "data": {
      "text/plain": [
       "[<matplotlib.lines.Line2D at 0x7fa008aad5f8>]"
      ]
     },
     "execution_count": 33,
     "metadata": {},
     "output_type": "execute_result"
    },
    {
     "data": {
      "image/png": "[encoded data removed]",
      "text/plain": [
       "<matplotlib.figure.Figure at 0x7fa008b445f8>"
      ]
     },
     "metadata": {},
     "output_type": "display_data"
    }
   ],
   "source": [
    "plt.plot(z2_flat)"
   ]
  },
  {
   "cell_type": "code",
   "execution_count": null,
   "metadata": {
    "collapsed": true
   },
   "outputs": [],
   "source": []
  }
 ],
 "metadata": {
  "kernelspec": {
   "display_name": "Python 3",
   "language": "python",
   "name": "python3"
  },
  "language_info": {
   "codemirror_mode": {
    "name": "ipython",
    "version": 3
   },
   "file_extension": ".py",
   "mimetype": "text/x-python",
   "name": "python",
   "nbconvert_exporter": "python",
   "pygments_lexer": "ipython3",
   "version": "3.5.3"
  }
 },
 "nbformat": 4,
 "nbformat_minor": 2
}
