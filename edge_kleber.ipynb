{
 "cells": [
  {
   "cell_type": "code",
   "execution_count": 1,
   "metadata": {
    "collapsed": true,
    "scrolled": true
   },
   "outputs": [],
   "source": [
    "from utils.log import configure_logging\n",
    "from utils.measure import measure"
   ]
  },
  {
   "cell_type": "code",
   "execution_count": 2,
   "metadata": {
    "collapsed": true,
    "scrolled": true
   },
   "outputs": [],
   "source": [
    "configure_logging(debug=False, email='b.gmeiner@gmx.de')"
   ]
  },
  {
   "cell_type": "code",
   "execution_count": 7,
   "metadata": {
    "collapsed": true,
    "scrolled": true
   },
   "outputs": [],
   "source": [
    "settings = {\n",
    "    'sensors': ['1161'],\n",
    "    'sampling_time': 0.256,\n",
    "    'data_points': 169,\n",
    "    'extent': ((8.0, 24.5, 0.1), (14.5, 31, 0.1)),\n",
    "    'mode': 'absolute',\n",
    "    'direction': ('x', 'y'),\n",
    "    'change_direction': False\n",
    "}\n",
    "\n",
    "directory = \"edge_kleber\""
   ]
  },
  {
   "cell_type": "code",
   "execution_count": 8,
   "metadata": {
    "scrolled": true
   },
   "outputs": [
    {
     "data": {
      "application/javascript": [
       "var command = \"script_filename = '\" + IPython.notebook.notebook_path + \"'; script_filename = script_filename.split('/')[-1]\";\n",
       "IPython.notebook.kernel.execute(command);"
      ],
      "text/plain": [
       "<IPython.core.display.Javascript object>"
      ]
     },
     "metadata": {},
     "output_type": "display_data"
    }
   ],
   "source": [
    "%%javascript\n",
    "var command = \"script_filename = '\" + IPython.notebook.notebook_path + \"'; script_filename = script_filename.split('/')[-1]\";\n",
    "IPython.notebook.kernel.execute(command);"
   ]
  },
  {
   "cell_type": "code",
   "execution_count": null,
   "metadata": {
    "scrolled": false
   },
   "outputs": [
    {
     "data": {
      "application/vnd.jupyter.widget-view+json": {
       "model_id": "c864cd2d63f247faac366c03e31c1123"
      }
     },
     "metadata": {},
     "output_type": "display_data"
    }
   ],
   "source": [
    "measure(settings, directory, script_filename, 10)"
   ]
  },
  {
   "cell_type": "code",
   "execution_count": null,
   "metadata": {
    "collapsed": true
   },
   "outputs": [],
   "source": []
  }
 ],
 "metadata": {
  "kernelspec": {
   "display_name": "Python 3",
   "language": "python",
   "name": "python3"
  },
  "language_info": {
   "codemirror_mode": {
    "name": "ipython",
    "version": 3
   },
   "file_extension": ".py",
   "mimetype": "text/x-python",
   "name": "python",
   "nbconvert_exporter": "python",
   "pygments_lexer": "ipython3",
   "version": "3.5.3"
  }
 },
 "nbformat": 4,
 "nbformat_minor": 2
}
