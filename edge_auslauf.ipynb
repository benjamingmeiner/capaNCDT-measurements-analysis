{
 "cells": [
  {
   "cell_type": "code",
   "execution_count": 1,
   "metadata": {
    "collapsed": true,
    "scrolled": true
   },
   "outputs": [],
   "source": [
    "from utils.log import configure_logging\n",
    "from utils.measure import measure"
   ]
  },
  {
   "cell_type": "code",
   "execution_count": 2,
   "metadata": {
    "collapsed": true,
    "scrolled": true
   },
   "outputs": [],
   "source": [
    "configure_logging(debug=False, email='b.gmeiner@gmx.de')"
   ]
  },
  {
   "cell_type": "code",
   "execution_count": 3,
   "metadata": {
    "collapsed": true,
    "scrolled": true
   },
   "outputs": [],
   "source": [
    "settings = {\n",
    "    'sensors': ['1161'],\n",
    "    'sampling_time': 0.256,\n",
    "    'data_points': 169,\n",
    "    'extent': ((13, 30, 0.1), (14, 31, 0.1)),\n",
    "    'mode': 'absolute',\n",
    "    'direction': ('x', 'y'),\n",
    "    'change_direction': False\n",
    "}\n",
    "\n",
    "directory = \"edge_auslauf\""
   ]
  },
  {
   "cell_type": "code",
   "execution_count": 4,
   "metadata": {
    "scrolled": true
   },
   "outputs": [
    {
     "data": {
      "application/javascript": [
       "var command = \"script_filename = '\" + IPython.notebook.notebook_path + \"'; script_filename = script_filename.split('/')[-1]\";\n",
       "IPython.notebook.kernel.execute(command);"
      ],
      "text/plain": [
       "<IPython.core.display.Javascript object>"
      ]
     },
     "metadata": {},
     "output_type": "display_data"
    }
   ],
   "source": [
    "%%javascript\n",
    "var command = \"script_filename = '\" + IPython.notebook.notebook_path + \"'; script_filename = script_filename.split('/')[-1]\";\n",
    "IPython.notebook.kernel.execute(command);"
   ]
  },
  {
   "cell_type": "code",
   "execution_count": null,
   "metadata": {
    "scrolled": false
   },
   "outputs": [
    {
     "data": {
      "application/vnd.jupyter.widget-view+json": {
       "model_id": "af665371ba7648beafcae8d8927068fa"
      }
     },
     "metadata": {},
     "output_type": "display_data"
    },
    {
     "name": "stderr",
     "output_type": "stream",
     "text": [
      "send: 'ehlo [127.0.1.1]\\r\\n'\n",
      "reply: b'250-web.de Hello [127.0.1.1] [178.15.225.204]\\r\\n'\n",
      "reply: b'250-AUTH LOGIN PLAIN\\r\\n'\n",
      "reply: b'250-SIZE 141557760\\r\\n'\n",
      "reply: b'250 STARTTLS\\r\\n'\n",
      "reply: retcode (250); Msg: b'web.de Hello [127.0.1.1] [178.15.225.204]\\nAUTH LOGIN PLAIN\\nSIZE 141557760\\nSTARTTLS'\n",
      "send: 'STARTTLS\\r\\n'\n",
      "reply: b'220 OK\\r\\n'\n",
      "reply: retcode (220); Msg: b'OK'\n",
      "send: 'ehlo [127.0.1.1]\\r\\n'\n",
      "reply: b'250-web.de Hello [127.0.1.1] [178.15.225.204]\\r\\n'\n",
      "reply: b'250-AUTH LOGIN PLAIN\\r\\n'\n",
      "reply: b'250 SIZE 141557760\\r\\n'\n",
      "reply: retcode (250); Msg: b'web.de Hello [127.0.1.1] [178.15.225.204]\\nAUTH LOGIN PLAIN\\nSIZE 141557760'\n",
      "send: 'AUTH PLAIN AGthcGFzY2FuQHdlYi5kZQBrYXBhc2Nhbg==\\r\\n'\n",
      "reply: b'235 Authentication succeeded\\r\\n'\n",
      "reply: retcode (235); Msg: b'Authentication succeeded'\n",
      "send: 'mail FROM:<kapascan@web.de> size=1179\\r\\n'\n",
      "reply: b'250 Requested mail action okay, completed\\r\\n'\n",
      "reply: retcode (250); Msg: b'Requested mail action okay, completed'\n",
      "send: 'rcpt TO:<b.gmeiner@gmx.de>\\r\\n'\n",
      "reply: b'250 OK\\r\\n'\n",
      "reply: retcode (250); Msg: b'OK'\n",
      "send: 'data\\r\\n'\n",
      "reply: b'354 Start mail input; end with <CRLF>.<CRLF>\\r\\n'\n",
      "reply: retcode (354); Msg: b'Start mail input; end with <CRLF>.<CRLF>'\n",
      "data: (354, b'Start mail input; end with <CRLF>.<CRLF>')\n",
      "send: b'From: kapascan@web.de\\r\\nTo: b.gmeiner@gmx.de\\r\\nSubject: kapascan\\r\\nDate: Wed, 20 Dec 2017 17:50:05 +0100\\r\\nContent-Type: text/plain; charset=\"utf-8\"\\r\\nContent-Transfer-Encoding: 7bit\\r\\nMIME-Version: 1.0\\r\\n\\r\\n2017-12-20 17:49:39   INFO   Measurement edge_auslauf:                                                                                               utils.measure\\r\\n\\r\\n2017-12-20 17:49:39   INFO   Initialized measurement with settings:\\r\\n{\\'change_direction\\': False,\\r\\n \\'data_logger_channel\\': 101,\\r\\n \\'data_points\\': 169,\\r\\n \\'direction\\': (\\'x\\', \\'y\\'),\\r\\n \\'extent\\': ((13, 30, 0.1), (14, 31, 0.1)),\\r\\n \\'mode\\': \\'absolute\\',\\r\\n \\'sampling_time\\': 0.256,\\r\\n \\'sensors\\': [\\'1161\\']}   kapascan.measurement\\r\\n\\r\\n2017-12-20 17:49:39   INFO   Scan 1 of 10:                                                                                                           utils.measure\\r\\n\\r\\n2017-12-20 17:49:45   INFO   Started scan.                                                                                                    kapascan.measurement\\r\\n\\r\\n2017-12-20 17:49:45   INFO   Scanning 29241 positions ...                                                                                     kapascan.measurement\\r\\n.\\r\\n'\n",
      "reply: b'250 Requested mail action okay, completed: id=0Lmu5s-1evFU91Z0O-00h3zm\\r\\n'\n",
      "reply: retcode (250); Msg: b'Requested mail action okay, completed: id=0Lmu5s-1evFU91Z0O-00h3zm'\n",
      "data: (250, b'Requested mail action okay, completed: id=0Lmu5s-1evFU91Z0O-00h3zm')\n",
      "send: 'QUIT\\r\\n'\n",
      "reply: b'221 web.de Service closing transmission channel\\r\\n'\n",
      "reply: retcode (221); Msg: b'web.de Service closing transmission channel'\n"
     ]
    }
   ],
   "source": [
    "measure(settings, directory, script_filename, 10)"
   ]
  },
  {
   "cell_type": "code",
   "execution_count": null,
   "metadata": {
    "collapsed": true
   },
   "outputs": [],
   "source": []
  }
 ],
 "metadata": {
  "kernelspec": {
   "display_name": "Python 3",
   "language": "python",
   "name": "python3"
  },
  "language_info": {
   "codemirror_mode": {
    "name": "ipython",
    "version": 3
   },
   "file_extension": ".py",
   "mimetype": "text/x-python",
   "name": "python",
   "nbconvert_exporter": "python",
   "pygments_lexer": "ipython3",
   "version": "3.5.3"
  }
 },
 "nbformat": 4,
 "nbformat_minor": 2
}
