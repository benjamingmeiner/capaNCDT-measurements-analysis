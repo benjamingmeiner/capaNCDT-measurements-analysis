{
 "cells": [
  {
   "cell_type": "code",
   "execution_count": 16,
   "metadata": {
    "collapsed": true,
    "scrolled": true
   },
   "outputs": [],
   "source": [
    "from utils.log import configure_logging\n",
    "from utils.measure import measure"
   ]
  },
  {
   "cell_type": "code",
   "execution_count": 17,
   "metadata": {
    "collapsed": true,
    "scrolled": true
   },
   "outputs": [],
   "source": [
    "configure_logging(debug=False, email='b.gmeiner@gmx.de')"
   ]
  },
  {
   "cell_type": "code",
   "execution_count": 18,
   "metadata": {
    "collapsed": true,
    "scrolled": true
   },
   "outputs": [],
   "source": [
    "settings = {\n",
    "    'sensors': ['1161'],\n",
    "    'sampling_time': 0.256,\n",
    "    'data_points': 169,\n",
    "    'extent': ((9.0, 26, 0.1), (13, 30, 0.1)),\n",
    "    'mode': 'absolute',\n",
    "    'direction': ('x', 'y'),\n",
    "    'change_direction': False\n",
    "}\n",
    "\n",
    "directory = \"edge_kleber_wasser\""
   ]
  },
  {
   "cell_type": "code",
   "execution_count": 19,
   "metadata": {
    "scrolled": true
   },
   "outputs": [
    {
     "data": {
      "application/javascript": [
       "var command = \"script_filename = '\" + IPython.notebook.notebook_path + \"'; script_filename = script_filename.split('/')[-1]\";\n",
       "IPython.notebook.kernel.execute(command);"
      ],
      "text/plain": [
       "<IPython.core.display.Javascript object>"
      ]
     },
     "metadata": {},
     "output_type": "display_data"
    }
   ],
   "source": [
    "%%javascript\n",
    "var command = \"script_filename = '\" + IPython.notebook.notebook_path + \"'; script_filename = script_filename.split('/')[-1]\";\n",
    "IPython.notebook.kernel.execute(command);"
   ]
  },
  {
   "cell_type": "code",
   "execution_count": null,
   "metadata": {
    "scrolled": false
   },
   "outputs": [
    {
     "data": {
      "application/vnd.jupyter.widget-view+json": {
       "model_id": "dd54e0e19e0c4ace8ced8d8944e65afa"
      }
     },
     "metadata": {},
     "output_type": "display_data"
    },
    {
     "name": "stderr",
     "output_type": "stream",
     "text": [
      "send: 'ehlo [127.0.1.1]\\r\\n'\n",
      "reply: b'250-web.de Hello [127.0.1.1] [178.15.225.204]\\r\\n'\n",
      "reply: b'250-AUTH LOGIN PLAIN\\r\\n'\n",
      "reply: b'250-SIZE 141557760\\r\\n'\n",
      "reply: b'250 STARTTLS\\r\\n'\n",
      "reply: retcode (250); Msg: b'web.de Hello [127.0.1.1] [178.15.225.204]\\nAUTH LOGIN PLAIN\\nSIZE 141557760\\nSTARTTLS'\n",
      "send: 'STARTTLS\\r\\n'\n",
      "reply: b'220 OK\\r\\n'\n",
      "reply: retcode (220); Msg: b'OK'\n",
      "send: 'ehlo [127.0.1.1]\\r\\n'\n",
      "reply: b'250-web.de Hello [127.0.1.1] [178.15.225.204]\\r\\n'\n",
      "reply: b'250-AUTH LOGIN PLAIN\\r\\n'\n",
      "reply: b'250 SIZE 141557760\\r\\n'\n",
      "reply: retcode (250); Msg: b'web.de Hello [127.0.1.1] [178.15.225.204]\\nAUTH LOGIN PLAIN\\nSIZE 141557760'\n",
      "send: 'AUTH PLAIN AGthcGFzY2FuQHdlYi5kZQBrYXBhc2Nhbg==\\r\\n'\n",
      "reply: b'235 Authentication succeeded\\r\\n'\n",
      "reply: retcode (235); Msg: b'Authentication succeeded'\n",
      "send: 'mail FROM:<kapascan@web.de> size=1180\\r\\n'\n",
      "reply: b'250 Requested mail action okay, completed\\r\\n'\n",
      "reply: retcode (250); Msg: b'Requested mail action okay, completed'\n",
      "send: 'rcpt TO:<b.gmeiner@gmx.de>\\r\\n'\n",
      "reply: b'250 OK\\r\\n'\n",
      "reply: retcode (250); Msg: b'OK'\n",
      "send: 'data\\r\\n'\n",
      "reply: b'354 Start mail input; end with <CRLF>.<CRLF>\\r\\n'\n",
      "reply: retcode (354); Msg: b'Start mail input; end with <CRLF>.<CRLF>'\n",
      "data: (354, b'Start mail input; end with <CRLF>.<CRLF>')\n",
      "send: b'From: kapascan@web.de\\r\\nTo: b.gmeiner@gmx.de\\r\\nSubject: kapascan\\r\\nDate: Fri, 08 Dec 2017 03:10:48 +0100\\r\\nContent-Type: text/plain; charset=\"utf-8\"\\r\\nContent-Transfer-Encoding: 7bit\\r\\nMIME-Version: 1.0\\r\\n\\r\\n2017-12-08 03:10:39   INFO   Measurement edge_kleber_wasser:                                                                                         utils.measure\\r\\n\\r\\n2017-12-08 03:10:39   INFO   Initialized measurement with settings:\\r\\n{\\'change_direction\\': False,\\r\\n \\'data_logger_channel\\': 101,\\r\\n \\'data_points\\': 169,\\r\\n \\'direction\\': (\\'x\\', \\'y\\'),\\r\\n \\'extent\\': ((9.0, 26, 0.1), (13, 30, 0.1)),\\r\\n \\'mode\\': \\'absolute\\',\\r\\n \\'sampling_time\\': 0.256,\\r\\n \\'sensors\\': [\\'1161\\']}   kapascan.measurement\\r\\n\\r\\n2017-12-08 03:10:39   INFO   Scan 1 of 8:                                                                                                            utils.measure\\r\\n\\r\\n2017-12-08 03:10:46   INFO   Started scan.                                                                                                    kapascan.measurement\\r\\n\\r\\n2017-12-08 03:10:46   INFO   Scanning 29241 positions ...                                                                                     kapascan.measurement\\r\\n.\\r\\n'\n",
      "reply: b'250 Requested mail action okay, completed: id=0MDxKd-1eHrSZ1fNH-00HRtW\\r\\n'\n",
      "reply: retcode (250); Msg: b'Requested mail action okay, completed: id=0MDxKd-1eHrSZ1fNH-00HRtW'\n",
      "data: (250, b'Requested mail action okay, completed: id=0MDxKd-1eHrSZ1fNH-00HRtW')\n",
      "send: 'QUIT\\r\\n'\n",
      "reply: b'221 web.de Service closing transmission channel\\r\\n'\n",
      "reply: retcode (221); Msg: b'web.de Service closing transmission channel'\n",
      "send: 'ehlo [127.0.1.1]\\r\\n'\n",
      "reply: b'250-web.de Hello [127.0.1.1] [178.15.225.204]\\r\\n'\n",
      "reply: b'250-AUTH LOGIN PLAIN\\r\\n'\n",
      "reply: b'250-SIZE 141557760\\r\\n'\n",
      "reply: b'250 STARTTLS\\r\\n'\n",
      "reply: retcode (250); Msg: b'web.de Hello [127.0.1.1] [178.15.225.204]\\nAUTH LOGIN PLAIN\\nSIZE 141557760\\nSTARTTLS'\n",
      "send: 'STARTTLS\\r\\n'\n",
      "reply: b'220 OK\\r\\n'\n",
      "reply: retcode (220); Msg: b'OK'\n",
      "send: 'ehlo [127.0.1.1]\\r\\n'\n",
      "reply: b'250-web.de Hello [127.0.1.1] [178.15.225.204]\\r\\n'\n",
      "reply: b'250-AUTH LOGIN PLAIN\\r\\n'\n",
      "reply: b'250 SIZE 141557760\\r\\n'\n",
      "reply: retcode (250); Msg: b'web.de Hello [127.0.1.1] [178.15.225.204]\\nAUTH LOGIN PLAIN\\nSIZE 141557760'\n",
      "send: 'AUTH PLAIN AGthcGFzY2FuQHdlYi5kZQBrYXBhc2Nhbg==\\r\\n'\n",
      "reply: b'235 Authentication succeeded\\r\\n'\n",
      "reply: retcode (235); Msg: b'Authentication succeeded'\n",
      "send: 'mail FROM:<kapascan@web.de> size=1180\\r\\n'\n",
      "send: 'QUIT\\r\\n'\n",
      "--- Logging error ---\n",
      "Traceback (most recent call last):\n",
      "  File \"/usr/lib/python3.5/smtplib.py\", line 386, in getreply\n",
      "    line = self.file.readline(_MAXLINE + 1)\n",
      "  File \"/usr/lib/python3.5/socket.py\", line 576, in readinto\n",
      "    return self._sock.recv_into(b)\n",
      "  File \"/usr/lib/python3.5/ssl.py\", line 937, in recv_into\n",
      "    return self.read(nbytes, buffer)\n",
      "  File \"/usr/lib/python3.5/ssl.py\", line 799, in read\n",
      "    return self._sslobj.read(len, buffer)\n",
      "  File \"/usr/lib/python3.5/ssl.py\", line 583, in read\n",
      "    v = self._sslobj.read(len, buffer)\n",
      "socket.timeout: The read operation timed out\n",
      "\n",
      "During handling of the above exception, another exception occurred:\n",
      "\n",
      "Traceback (most recent call last):\n",
      "  File \"/home/kapascan/jupyter/kapascan-measurements/utils/log.py\", line 125, in send_buffer\n",
      "    self.send_email(message)\n",
      "  File \"/home/kapascan/jupyter/kapascan-measurements/utils/log.py\", line 145, in send_email\n",
      "    smtp.send_message(message)\n",
      "  File \"/usr/lib/python3.5/smtplib.py\", line 961, in send_message\n",
      "    rcpt_options)\n",
      "  File \"/usr/lib/python3.5/smtplib.py\", line 856, in sendmail\n",
      "    (code, resp) = self.mail(from_addr, esmtp_opts)\n",
      "  File \"/usr/lib/python3.5/smtplib.py\", line 534, in mail\n",
      "    return self.getreply()\n",
      "  File \"/usr/lib/python3.5/smtplib.py\", line 390, in getreply\n",
      "    + str(e))\n",
      "smtplib.SMTPServerDisconnected: Connection unexpectedly closed: The read operation timed out\n",
      "Call stack:\n",
      "  File \"/usr/lib/python3.5/threading.py\", line 882, in _bootstrap\n",
      "    self._bootstrap_inner()\n",
      "  File \"/usr/lib/python3.5/threading.py\", line 914, in _bootstrap_inner\n",
      "    self.run()\n",
      "  File \"/usr/lib/python3.5/threading.py\", line 862, in run\n",
      "    self._target(*self._args, **self._kwargs)\n",
      "  File \"/home/kapascan/jupyter/kapascan-measurements/utils/log.py\", line 112, in target\n",
      "    self.send_buffer()\n",
      "  File \"/home/kapascan/jupyter/kapascan-measurements/utils/log.py\", line 127, in send_buffer\n",
      "    self.handleError(record)\n",
      "Message: <kapascan.helper.BraceMessage object at 0x7f1cb37d8828>\n",
      "Arguments: ()\n",
      "send: 'ehlo [127.0.1.1]\\r\\n'\n",
      "reply: b'250-web.de Hello [127.0.1.1] [178.15.225.204]\\r\\n'\n",
      "reply: b'250-AUTH LOGIN PLAIN\\r\\n'\n",
      "reply: b'250-SIZE 141557760\\r\\n'\n",
      "reply: b'250 STARTTLS\\r\\n'\n",
      "reply: retcode (250); Msg: b'web.de Hello [127.0.1.1] [178.15.225.204]\\nAUTH LOGIN PLAIN\\nSIZE 141557760\\nSTARTTLS'\n",
      "send: 'STARTTLS\\r\\n'\n",
      "reply: b'220 OK\\r\\n'\n",
      "reply: retcode (220); Msg: b'OK'\n",
      "send: 'ehlo [127.0.1.1]\\r\\n'\n",
      "reply: b'250-web.de Hello [127.0.1.1] [178.15.225.204]\\r\\n'\n",
      "reply: b'250-AUTH LOGIN PLAIN\\r\\n'\n",
      "reply: b'250 SIZE 141557760\\r\\n'\n",
      "reply: retcode (250); Msg: b'web.de Hello [127.0.1.1] [178.15.225.204]\\nAUTH LOGIN PLAIN\\nSIZE 141557760'\n",
      "send: 'AUTH PLAIN AGthcGFzY2FuQHdlYi5kZQBrYXBhc2Nhbg==\\r\\n'\n",
      "reply: b'235 Authentication succeeded\\r\\n'\n",
      "reply: retcode (235); Msg: b'Authentication succeeded'\n",
      "send: 'mail FROM:<kapascan@web.de> size=1180\\r\\n'\n",
      "send: 'QUIT\\r\\n'\n",
      "--- Logging error ---\n",
      "Traceback (most recent call last):\n",
      "  File \"/usr/lib/python3.5/smtplib.py\", line 386, in getreply\n",
      "    line = self.file.readline(_MAXLINE + 1)\n",
      "  File \"/usr/lib/python3.5/socket.py\", line 576, in readinto\n",
      "    return self._sock.recv_into(b)\n",
      "  File \"/usr/lib/python3.5/ssl.py\", line 937, in recv_into\n",
      "    return self.read(nbytes, buffer)\n",
      "  File \"/usr/lib/python3.5/ssl.py\", line 799, in read\n",
      "    return self._sslobj.read(len, buffer)\n",
      "  File \"/usr/lib/python3.5/ssl.py\", line 583, in read\n",
      "    v = self._sslobj.read(len, buffer)\n",
      "socket.timeout: The read operation timed out\n",
      "\n",
      "During handling of the above exception, another exception occurred:\n",
      "\n",
      "Traceback (most recent call last):\n",
      "  File \"/home/kapascan/jupyter/kapascan-measurements/utils/log.py\", line 125, in send_buffer\n",
      "    self.send_email(message)\n",
      "  File \"/home/kapascan/jupyter/kapascan-measurements/utils/log.py\", line 145, in send_email\n",
      "    smtp.send_message(message)\n",
      "  File \"/usr/lib/python3.5/smtplib.py\", line 961, in send_message\n",
      "    rcpt_options)\n",
      "  File \"/usr/lib/python3.5/smtplib.py\", line 856, in sendmail\n",
      "    (code, resp) = self.mail(from_addr, esmtp_opts)\n",
      "  File \"/usr/lib/python3.5/smtplib.py\", line 534, in mail\n",
      "    return self.getreply()\n",
      "  File \"/usr/lib/python3.5/smtplib.py\", line 390, in getreply\n",
      "    + str(e))\n",
      "smtplib.SMTPServerDisconnected: Connection unexpectedly closed: The read operation timed out\n",
      "Call stack:\n",
      "  File \"/usr/lib/python3.5/threading.py\", line 882, in _bootstrap\n",
      "    self._bootstrap_inner()\n",
      "  File \"/usr/lib/python3.5/threading.py\", line 914, in _bootstrap_inner\n",
      "    self.run()\n",
      "  File \"/usr/lib/python3.5/threading.py\", line 862, in run\n",
      "    self._target(*self._args, **self._kwargs)\n",
      "  File \"/home/kapascan/jupyter/kapascan-measurements/utils/log.py\", line 112, in target\n",
      "    self.send_buffer()\n",
      "  File \"/home/kapascan/jupyter/kapascan-measurements/utils/log.py\", line 127, in send_buffer\n",
      "    self.handleError(record)\n",
      "Message: <kapascan.helper.BraceMessage object at 0x7f1cb37d8828>\n",
      "Arguments: ()\n"
     ]
    },
    {
     "name": "stderr",
     "output_type": "stream",
     "text": [
      "send: 'ehlo [127.0.1.1]\\r\\n'\n",
      "reply: b'250-web.de Hello [127.0.1.1] [178.15.225.204]\\r\\n'\n",
      "reply: b'250-AUTH LOGIN PLAIN\\r\\n'\n",
      "reply: b'250-SIZE 141557760\\r\\n'\n",
      "reply: b'250 STARTTLS\\r\\n'\n",
      "reply: retcode (250); Msg: b'web.de Hello [127.0.1.1] [178.15.225.204]\\nAUTH LOGIN PLAIN\\nSIZE 141557760\\nSTARTTLS'\n",
      "send: 'STARTTLS\\r\\n'\n",
      "reply: b'220 OK\\r\\n'\n",
      "reply: retcode (220); Msg: b'OK'\n",
      "send: 'ehlo [127.0.1.1]\\r\\n'\n",
      "reply: b'250-web.de Hello [127.0.1.1] [178.15.225.204]\\r\\n'\n",
      "reply: b'250-AUTH LOGIN PLAIN\\r\\n'\n",
      "reply: b'250 SIZE 141557760\\r\\n'\n",
      "reply: retcode (250); Msg: b'web.de Hello [127.0.1.1] [178.15.225.204]\\nAUTH LOGIN PLAIN\\nSIZE 141557760'\n",
      "send: 'AUTH PLAIN AGthcGFzY2FuQHdlYi5kZQBrYXBhc2Nhbg==\\r\\n'\n",
      "reply: b'235 Authentication succeeded\\r\\n'\n",
      "reply: retcode (235); Msg: b'Authentication succeeded'\n",
      "send: 'mail FROM:<kapascan@web.de> size=1180\\r\\n'\n",
      "reply: b'250 Requested mail action okay, completed\\r\\n'\n",
      "reply: retcode (250); Msg: b'Requested mail action okay, completed'\n",
      "send: 'rcpt TO:<b.gmeiner@gmx.de>\\r\\n'\n",
      "reply: b'250 OK\\r\\n'\n",
      "reply: retcode (250); Msg: b'OK'\n",
      "send: 'data\\r\\n'\n",
      "reply: b'354 Start mail input; end with <CRLF>.<CRLF>\\r\\n'\n",
      "reply: retcode (354); Msg: b'Start mail input; end with <CRLF>.<CRLF>'\n",
      "data: (354, b'Start mail input; end with <CRLF>.<CRLF>')\n",
      "send: b'From: kapascan@web.de\\r\\nTo: b.gmeiner@gmx.de\\r\\nSubject: kapascan\\r\\nDate: Fri, 08 Dec 2017 03:11:18 +0100\\r\\nContent-Type: text/plain; charset=\"utf-8\"\\r\\nContent-Transfer-Encoding: 7bit\\r\\nMIME-Version: 1.0\\r\\n\\r\\n2017-12-08 03:10:39   INFO   Measurement edge_kleber_wasser:                                                                                         utils.measure\\r\\n\\r\\n2017-12-08 03:10:39   INFO   Initialized measurement with settings:\\r\\n{\\'change_direction\\': False,\\r\\n \\'data_logger_channel\\': 101,\\r\\n \\'data_points\\': 169,\\r\\n \\'direction\\': (\\'x\\', \\'y\\'),\\r\\n \\'extent\\': ((9.0, 26, 0.1), (13, 30, 0.1)),\\r\\n \\'mode\\': \\'absolute\\',\\r\\n \\'sampling_time\\': 0.256,\\r\\n \\'sensors\\': [\\'1161\\']}   kapascan.measurement\\r\\n\\r\\n2017-12-08 03:10:39   INFO   Scan 1 of 8:                                                                                                            utils.measure\\r\\n\\r\\n2017-12-08 03:10:46   INFO   Started scan.                                                                                                    kapascan.measurement\\r\\n\\r\\n2017-12-08 03:10:46   INFO   Scanning 29241 positions ...                                                                                     kapascan.measurement\\r\\n.\\r\\n'\n",
      "reply: b'250 Requested mail action okay, completed: id=0MBkPj-1eFfcX1QNr-00Aq8N\\r\\n'\n",
      "reply: retcode (250); Msg: b'Requested mail action okay, completed: id=0MBkPj-1eFfcX1QNr-00Aq8N'\n",
      "data: (250, b'Requested mail action okay, completed: id=0MBkPj-1eFfcX1QNr-00Aq8N')\n",
      "send: 'QUIT\\r\\n'\n",
      "reply: b'221 web.de Service closing transmission channel\\r\\n'\n",
      "reply: retcode (221); Msg: b'web.de Service closing transmission channel'\n"
     ]
    }
   ],
   "source": [
    "measure(settings, directory, script_filename, 8)"
   ]
  },
  {
   "cell_type": "code",
   "execution_count": null,
   "metadata": {
    "collapsed": true
   },
   "outputs": [],
   "source": []
  }
 ],
 "metadata": {
  "kernelspec": {
   "display_name": "Python 3",
   "language": "python",
   "name": "python3"
  },
  "language_info": {
   "codemirror_mode": {
    "name": "ipython",
    "version": 3
   },
   "file_extension": ".py",
   "mimetype": "text/x-python",
   "name": "python",
   "nbconvert_exporter": "python",
   "pygments_lexer": "ipython3",
   "version": "3.5.3"
  }
 },
 "nbformat": 4,
 "nbformat_minor": 2
}
