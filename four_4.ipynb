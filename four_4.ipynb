{
 "cells": [
  {
   "cell_type": "code",
   "execution_count": 15,
   "metadata": {
    "collapsed": true,
    "scrolled": true
   },
   "outputs": [],
   "source": [
    "from utils.log import configure_logging\n",
    "from utils.measure import measure"
   ]
  },
  {
   "cell_type": "code",
   "execution_count": 16,
   "metadata": {
    "collapsed": true,
    "scrolled": true
   },
   "outputs": [],
   "source": [
    "configure_logging(debug=False)"
   ]
  },
  {
   "cell_type": "code",
   "execution_count": 17,
   "metadata": {
    "collapsed": true,
    "scrolled": true
   },
   "outputs": [],
   "source": [
    "settings = {\n",
    "    'sensors': ['1161'],\n",
    "    'sampling_time': 0.256,\n",
    "    'data_points': 169,\n",
    "    'extent': ((26.5, 42.5, 0.1), (20, 36, 0.1)),\n",
    "    'mode': 'absolute',\n",
    "    'direction': ('x', 'y'),\n",
    "    'change_direction': True\n",
    "}\n",
    "directory = \"four_4\""
   ]
  },
  {
   "cell_type": "code",
   "execution_count": 18,
   "metadata": {},
   "outputs": [
    {
     "data": {
      "application/javascript": [
       "var command = \"notebook_filename = '\" + IPython.notebook.notebook_path + \"'; notebook_filename = notebook_filename.split('/')[-1]\";\n",
       "IPython.notebook.kernel.execute(command);"
      ],
      "text/plain": [
       "<IPython.core.display.Javascript object>"
      ]
     },
     "metadata": {},
     "output_type": "display_data"
    }
   ],
   "source": [
    "%%javascript\n",
    "var command = \"notebook_filename = '\" + IPython.notebook.notebook_path + \"'; notebook_filename = notebook_filename.split('/')[-1]\";\n",
    "IPython.notebook.kernel.execute(command);"
   ]
  },
  {
   "cell_type": "code",
   "execution_count": 19,
   "metadata": {
    "scrolled": true
   },
   "outputs": [],
   "source": [
    "scripts = [notebook_filename, \"align.ipynb\"]"
   ]
  },
  {
   "cell_type": "code",
   "execution_count": null,
   "metadata": {
    "scrolled": false
   },
   "outputs": [
    {
     "data": {
      "application/vnd.jupyter.widget-view+json": {
       "model_id": "1bea15fcd04c45db831c3abdfd2a5414"
      }
     },
     "metadata": {},
     "output_type": "display_data"
    }
   ],
   "source": [
    "measure(settings, directory, scripts, 6)"
   ]
  },
  {
   "cell_type": "code",
   "execution_count": null,
   "metadata": {
    "collapsed": true
   },
   "outputs": [],
   "source": []
  }
 ],
 "metadata": {
  "kernelspec": {
   "display_name": "Python 3",
   "language": "python",
   "name": "python3"
  },
  "language_info": {
   "codemirror_mode": {
    "name": "ipython",
    "version": 3
   },
   "file_extension": ".py",
   "mimetype": "text/x-python",
   "name": "python",
   "nbconvert_exporter": "python",
   "pygments_lexer": "ipython3",
   "version": "3.5.3"
  }
 },
 "nbformat": 4,
 "nbformat_minor": 2
}
