{
 "cells": [
  {
   "cell_type": "code",
   "execution_count": 24,
   "metadata": {},
   "outputs": [],
   "source": [
    "import numpy as np\n",
    "import numpy.ma as ma\n",
    "import cairocffi as cairo\n",
    "from skimage import transform\n",
    "import matplotlib.pyplot as plt\n",
    "%matplotlib inline"
   ]
  },
  {
   "cell_type": "code",
   "execution_count": 191,
   "metadata": {
    "collapsed": true
   },
   "outputs": [],
   "source": [
    "def sensor_function(diameter, d, theta=0, phi=0):\n",
    "    \"\"\"\n",
    "    Generates a 2D devonvolution kernel with a circular shape.\n",
    "\n",
    "    Parameters\n",
    "    ----------\n",
    "    diameter : float\n",
    "        diameter of the sensor in pixels\n",
    "    sigma : float, optional\n",
    "        width of the gaussian filter in pixels\n",
    "    theta : float\n",
    "        tilt angle of the sensor in degree\n",
    "    phi : float\n",
    "        direction angle of tilting in degree\n",
    "    z0 : float\n",
    "        mean distance of the sensor to the object in pixel\n",
    "\n",
    "    Returns\n",
    "    -------\n",
    "    kernel : 2D array\n",
    "        The deconvolution kernel\n",
    "    \"\"\"\n",
    "    dim = int(np.ceil(diameter))\n",
    "    surface = cairo.ImageSurface(cairo.FORMAT_ARGB32, dim, dim)\n",
    "    contex = cairo.Context(surface)\n",
    "\n",
    "    radius = diameter / 2\n",
    "    center = dim / 2\n",
    "    contex.arc(center, center, radius, 0, 2 * np.pi)\n",
    "    contex.fill()\n",
    "    kernel = np.frombuffer(surface.get_data(), dtype=np.uint32).astype(np.float64)\n",
    "    kernel = kernel.reshape(dim, dim)\n",
    "    kernel /= kernel.max()\n",
    "\n",
    "    x = np.arange(dim, dtype=np.float) - (dim - 1) /  2\n",
    "    f = 1 / (d + x * np.tan(theta))\n",
    "    kernel *= f\n",
    "    \n",
    "    #kernel *= np.cos(theta)\n",
    "    kernel = transform.rescale(kernel, (1, np.cos(theta)), order=3, clip=False, mode='constant')\n",
    "    #kernel = transform.rotate(kernel, phi, resize=True, order=3, clip=False, mode='constant')\n",
    "    return kernel\n"
   ]
  },
  {
   "cell_type": "code",
   "execution_count": 192,
   "metadata": {},
   "outputs": [],
   "source": [
    "def C_sim(R, d, theta, px=500):\n",
    "    cs = []\n",
    "    for t in theta:\n",
    "        csim = sensor_function(R * 2 * px, d * px, t * np.pi / 180).sum() / px\n",
    "        cs.append(csim / (R**2 * np.pi) * d)\n",
    "    return np.array(cs)"
   ]
  },
  {
   "cell_type": "code",
   "execution_count": 193,
   "metadata": {
    "collapsed": true
   },
   "outputs": [],
   "source": [
    "def C_me(R, d, theta):\n",
    "    return 1 + 0.25 * (R * np.tan(theta * np.pi / 180) / d)**2"
   ]
  },
  {
   "cell_type": "code",
   "execution_count": 196,
   "metadata": {},
   "outputs": [],
   "source": [
    "px = 1000  # px / mm\n",
    "diameter = 2.57\n",
    "R = diameter / 2\n",
    "d = 0.1\n",
    "theta = np.linspace(0, 4, 5)\n",
    "cs = C_sim(R, d, theta, px)\n",
    "cm = C_me(R, d, theta)"
   ]
  },
  {
   "cell_type": "code",
   "execution_count": 197,
   "metadata": {},
   "outputs": [
    {
     "data": {
      "text/plain": [
       "[<matplotlib.lines.Line2D at 0x7ff1f1b0e1d0>]"
      ]
     },
     "execution_count": 197,
     "metadata": {},
     "output_type": "execute_result"
    },
    {
     "data": {
      "image/png": "[encoded data removed]",
      "text/plain": [
       "<matplotlib.figure.Figure at 0x7ff1f1b9c518>"
      ]
     },
     "metadata": {},
     "output_type": "display_data"
    }
   ],
   "source": [
    "plt.plot(theta, cm / cs)"
   ]
  },
  {
   "cell_type": "code",
   "execution_count": 94,
   "metadata": {},
   "outputs": [
    {
     "data": {
      "text/plain": [
       "array([[1, 1, 1, ..., 1, 1, 1],\n",
       "       [1, 1, 1, ..., 1, 1, 1],\n",
       "       [1, 1, 1, ..., 1, 1, 1],\n",
       "       ..., \n",
       "       [1, 1, 1, ..., 1, 1, 1],\n",
       "       [1, 1, 1, ..., 1, 1, 1],\n",
       "       [1, 1, 1, ..., 1, 1, 1]])"
      ]
     },
     "execution_count": 94,
     "metadata": {},
     "output_type": "execute_result"
    }
   ],
   "source": [
    "(distance == 0).astype(int)"
   ]
  },
  {
   "cell_type": "code",
   "execution_count": 97,
   "metadata": {},
   "outputs": [
    {
     "data": {
      "text/plain": [
       "array([ 1.00001816,  1.00001998,  1.00002489,  1.00003115,  1.00003584,\n",
       "        1.00003486,  1.00002285,  0.99999321,  0.99993803,  0.99984799])"
      ]
     },
     "execution_count": 97,
     "metadata": {},
     "output_type": "execute_result"
    }
   ],
   "source": [
    "cm / cs"
   ]
  },
  {
   "cell_type": "code",
   "execution_count": 120,
   "metadata": {},
   "outputs": [
    {
     "data": {
      "text/plain": [
       "4.4633283485033282"
      ]
     },
     "execution_count": 120,
     "metadata": {},
     "output_type": "execute_result"
    }
   ],
   "source": [
    "np.arcsin(d/R) * 180 / np.pi"
   ]
  },
  {
   "cell_type": "code",
   "execution_count": 144,
   "metadata": {},
   "outputs": [
    {
     "data": {
      "text/plain": [
       "0.9975640502598242"
      ]
     },
     "execution_count": 144,
     "metadata": {},
     "output_type": "execute_result"
    }
   ],
   "source": [
    "np.cos(4 * np.pi / 180)"
   ]
  },
  {
   "cell_type": "code",
   "execution_count": null,
   "metadata": {
    "collapsed": true
   },
   "outputs": [],
   "source": []
  }
 ],
 "metadata": {
  "kernelspec": {
   "display_name": "Python 3",
   "language": "python",
   "name": "python3"
  },
  "language_info": {
   "codemirror_mode": {
    "name": "ipython",
    "version": 3
   },
   "file_extension": ".py",
   "mimetype": "text/x-python",
   "name": "python",
   "nbconvert_exporter": "python",
   "pygments_lexer": "ipython3",
   "version": "3.5.3"
  }
 },
 "nbformat": 4,
 "nbformat_minor": 2
}
